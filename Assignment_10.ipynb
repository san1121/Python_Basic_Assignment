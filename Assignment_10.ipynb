{
 "cells": [
  {
   "cell_type": "markdown",
   "metadata": {},
   "source": [
    "1. How do you distinguish between shutil.copy() and shutil.copytree()?\n",
    "\n",
    "__Ans:-__\n",
    "- shutil.copy() can only copy the files to the destination location provided, while shutil.copytree() can copy entire folder along with files associated in it.\n",
    "- shutil.copy() returns the string of the path of the copied file, while shutil.copytree() returns string of the path of the copied folder\n",
    "***"
   ]
  },
  {
   "cell_type": "markdown",
   "metadata": {},
   "source": [
    "2. What is the name of the feature used to rename files?\n",
    "\n",
    "__Ans:-__\n",
    "``` \n",
    "os.rename(source file name, destination file name)\n",
    "```\n",
    "***"
   ]
  },
  {
   "cell_type": "markdown",
   "metadata": {},
   "source": [
    "3. How are the delete functions in the send2trash and shutil modules different?\n",
    "\n",
    "__Ans:-__\n",
    "shutil modules permanently deletes the file, while send2trash module delete and moves the file into recycle bin or trash rather than permanently deleting them.\n",
    "***"
   ]
  },
  {
   "cell_type": "markdown",
   "metadata": {},
   "source": [
    "4. ZipFile objects have a close() function that is similar to that of File objects. What ZipFile method is similar to the open() method of File objects?\n",
    "\n",
    "__Ans:-__\n",
    "open() method from ZipFile is similar to open() method of File objects\n",
    "***"
   ]
  },
  {
   "cell_type": "markdown",
   "metadata": {},
   "source": [
    "5. Create a programme that searches a folder tree for files with a certain file extension (such as .pdf or .jpg). Copy these files to a new folder from wherever they are now.\n",
    "\n",
    "__Ans:-__\n"
   ]
  },
  {
   "cell_type": "code",
   "execution_count": 1,
   "metadata": {},
   "outputs": [
    {
     "name": "stdout",
     "output_type": "stream",
     "text": [
      "Before Copying\n",
      "['Python Basic Assigments']\n",
      "After Copying\n",
      "['Python Basic Assigments', 'space.jpg']\n"
     ]
    }
   ],
   "source": [
    "import os\n",
    "import shutil\n",
    "\n",
    "current_dir = os.getcwd()\n",
    "destination_dir = 'C:\\\\Users\\\\shrey\\\\Documents\\\\Full Stack Data Science'\n",
    "print('Before Copying')\n",
    "print(os.listdir(destination_dir))\n",
    "for file in os.listdir(current_dir):\n",
    "    file_extension = os.path.splitext(file)[1]\n",
    "    if file_extension == '.jpg':\n",
    "        dest = shutil.copy(current_dir + '\\\\' + file, destination_dir)\n",
    "print('After Copying')\n",
    "print(os.listdir(destination_dir)) # Space.jpg copied here"
   ]
  },
  {
   "cell_type": "code",
   "execution_count": null,
   "metadata": {},
   "outputs": [],
   "source": []
  }
 ],
 "metadata": {
  "kernelspec": {
   "display_name": "Python 3",
   "language": "python",
   "name": "python3"
  },
  "language_info": {
   "codemirror_mode": {
    "name": "ipython",
    "version": 3
   },
   "file_extension": ".py",
   "mimetype": "text/x-python",
   "name": "python",
   "nbconvert_exporter": "python",
   "pygments_lexer": "ipython3",
   "version": "3.8.5"
  }
 },
 "nbformat": 4,
 "nbformat_minor": 4
}
