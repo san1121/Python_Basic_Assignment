{
 "cells": [
  {
   "cell_type": "markdown",
   "metadata": {},
   "source": [
    "1. What are the differences between operators and values in the following?\n",
    "\n",
    "__Ans:-__\n",
    "1. \\* = Operator\n",
    "2. 'hello' = Value\n",
    "3. -87.8 = Value\n",
    "4. \\- = Operator\n",
    "5. / = Operator\n",
    "6. \\+ = Operator\n",
    "7. 6 = Value\n"
   ]
  },
  {
   "cell_type": "markdown",
   "metadata": {},
   "source": [
    "2. What is the difference between string and variable?\n",
    "\n",
    "__Ans:-__\n",
    "\n",
    "A Variable is a store of information, and a String is a type of information you would store in a Variable. A String is usually words, enclosed with \"\".  \n",
    "Eg. String x =\"Welcome santosh\" X is the Variable, and we declared it as a String, use the single = to assign the text to it.\n",
    "***"
   ]
  },
  {
   "cell_type": "markdown",
   "metadata": {},
   "source": [
    "3. Describe three different data forms.\n",
    "\n",
    "__Ans:-__\n",
    "1. Numeric:- It represents the data which has numeric value(int, float and complex numbers)\n",
    "2. Sequence:- It is ordered collection of similar/different data types. e.g. String, List and Tuples\n",
    "3. Boolean:- It consist of only two values either True or False\n",
    "***"
   ]
  },
  {
   "cell_type": "markdown",
   "metadata": {},
   "source": [
    "4. What makes up an expression? What are the functions of all expressions?\n",
    "\n",
    "__Ans:-__\n",
    "- Expression can be think of something that needs to be evaluated. e.g. 16 + 20 is an expression since it will evaluate to 36.\n",
    "- Function of expressions might include add, subtract, multiply, power, division, remainder etc.\n",
    "***\n"
   ]
  },
  {
   "cell_type": "markdown",
   "metadata": {},
   "source": [
    "5. In this chapter, assignment statements such as spam = 10 were added. What's the difference between a declaration and an expression?\n",
    "\n",
    "__Ans:-__\n",
    "- Declaration is something which refers to declaring a variable. Here spam is a variable which is declared and initilalize with a value of 10\n",
    "- Expression is just simple the operand which is 10\n",
    "***"
   ]
  },
  {
   "cell_type": "markdown",
   "metadata": {},
   "source": [
    "6. After running the following code, what does the variable bacon contain?\n",
    "\n",
    "bacon = 22\n",
    "\n",
    "bacon + 1\n",
    "\n",
    "__Ans:-__\n",
    "\n",
    "Variable bacon will have value 22 in it. Since we are not assigning the value back again in bacon variable\n",
    "***"
   ]
  },
  {
   "cell_type": "markdown",
   "metadata": {},
   "source": [
    "7. What should the values of the following two terms be?\n",
    "\n",
    "'spam' + 'spamspam'\n",
    "\n",
    "'spam' * 3\n",
    "\n",
    "__Ans:-__\n",
    "\n",
    "1. 'spam' + 'spamspam' = 'spamspamspam'\n",
    "2. 'spam' * 3 = 'spamspamspam'\n",
    "***"
   ]
  },
  {
   "cell_type": "markdown",
   "metadata": {},
   "source": [
    "8. Why is it that eggs is a true variable name but 100 is not?\n",
    "\n",
    "__Ans:-__\n",
    "\n",
    " - We can't keep numbers as a variable since Python interpretor will get confused about treating the number as variable or numeric Value.\n",
    " - Variable names can't start with numeric values.\n",
    "\n",
    "***"
   ]
  },
  {
   "cell_type": "markdown",
   "metadata": {},
   "source": [
    "9. Which of the following three functions may be used to convert a value to an integer, a floating-point number, or a string?\n",
    "\n",
    "__Ans:-__\n",
    "\n",
    "int(n), float(n) and str(n) function can be used to convert a value to an integer, floating point number and string respectively(Where n is the value to be convert)\n",
    "***"
   ]
  },
  {
   "cell_type": "markdown",
   "metadata": {},
   "source": [
    "10. What is the error caused by this expression? What would you do about it?\n",
    "\n",
    "'I have eaten ' + 99 + ' burritos.'\n",
    "\n",
    "__Ans:-__\n",
    "- There will be TypeError, since we cannot concatenate the String values with Integers values.\n",
    "- We need to convert the Integer value into String values by doing type conversion. This can be done as follows : \n",
    "'I have eaten' + str(99) + ' burritos.'\n"
   ]
  },
  {
   "cell_type": "code",
   "execution_count": null,
   "metadata": {},
   "outputs": [],
   "source": []
  }
 ],
 "metadata": {
  "kernelspec": {
   "display_name": "Python 3",
   "language": "python",
   "name": "python3"
  },
  "language_info": {
   "codemirror_mode": {
    "name": "ipython",
    "version": 3
   },
   "file_extension": ".py",
   "mimetype": "text/x-python",
   "name": "python",
   "nbconvert_exporter": "python",
   "pygments_lexer": "ipython3",
   "version": "3.8.5"
  }
 },
 "nbformat": 4,
 "nbformat_minor": 4
}
