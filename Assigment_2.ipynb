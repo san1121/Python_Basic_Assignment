{
 "cells": [
  {
   "cell_type": "markdown",
   "metadata": {},
   "source": [
    "1. What are the Boolean data type's two values? How do you go about writing them?\n",
    "\n",
    "__Ans:-__\n",
    "\n",
    "- True and False are the two boolean's data type's values\n",
    "- We can write them as following : \n",
    "\n",
    "    isHuman = True<br>\n",
    "    isRobot = False\n",
    "    \n",
    "***"
   ]
  },
  {
   "cell_type": "markdown",
   "metadata": {},
   "source": [
    "2. What are the three different types of Boolean operators?\n",
    "\n",
    "__Ans:-__\n",
    "\n",
    "- AND, OR and NOT are the three different types of boolean operators.\n",
    "***"
   ]
  },
  {
   "cell_type": "markdown",
   "metadata": {},
   "source": [
    "3. Make a list of each Boolean operator's truth tables (i.e. every possible combination of Boolean values for the operator and what it evaluate ).\n",
    "\n",
    "__Ans:-__\n",
    "\n"
   ]
  },
  {
   "cell_type": "code",
   "execution_count": 1,
   "metadata": {},
   "outputs": [],
   "source": [
    "var1 = True\n",
    "var2 = True\n",
    "\n",
    "and_truth_table = list()\n",
    "or_truth_table = list()\n",
    "not_truth_table = list()\n",
    "\n",
    "for i in range(0, 4):\n",
    "    temp_list = [var1, var2, var1 and var2]\n",
    "    and_truth_table.append(temp_list)\n",
    "    temp_list = [var1, var2, var1 or var2]\n",
    "    or_truth_table.append(temp_list)\n",
    "    \n",
    "    # For not values\n",
    "    if len(not_truth_table) < 2:\n",
    "        temp_list = [var2, not var2]\n",
    "        not_truth_table.append(temp_list)\n",
    "    \n",
    "    if var2:\n",
    "        var2 = not var2\n",
    "    else:\n",
    "        var1 = not var1\n",
    "        var2 = not var2"
   ]
  },
  {
   "cell_type": "code",
   "execution_count": 2,
   "metadata": {},
   "outputs": [
    {
     "name": "stdout",
     "output_type": "stream",
     "text": [
      "AND Table\n",
      "+--------+--------+--------+\n",
      "| Value1 | Value2 | Result |\n",
      "+--------+--------+--------+\n",
      "|  True  |  True  |  True  |\n",
      "|  True  | False  | False  |\n",
      "| False  |  True  | False  |\n",
      "| False  | False  | False  |\n",
      "+--------+--------+--------+\n",
      "OR Table\n",
      "+--------+--------+--------+\n",
      "| Value1 | Value2 | Result |\n",
      "+--------+--------+--------+\n",
      "|  True  |  True  |  True  |\n",
      "|  True  | False  |  True  |\n",
      "| False  |  True  |  True  |\n",
      "| False  | False  | False  |\n",
      "+--------+--------+--------+\n",
      "NOT Table\n",
      "+--------+--------+\n",
      "| Value1 | Result |\n",
      "+--------+--------+\n",
      "|  True  | False  |\n",
      "| False  |  True  |\n",
      "+--------+--------+\n"
     ]
    }
   ],
   "source": [
    "from prettytable import PrettyTable\n",
    "\n",
    "and_table = PrettyTable(['Value1', 'Value2', 'Result'])\n",
    "or_table = PrettyTable(['Value1', 'Value2', 'Result'])\n",
    "not_table = PrettyTable(['Value1','Result'])\n",
    "\n",
    "for rec in and_truth_table:\n",
    "    and_table.add_row(rec)\n",
    "for rec in or_truth_table:\n",
    "    or_table.add_row(rec)\n",
    "for rec in not_truth_table:\n",
    "    not_table.add_row(rec)\n",
    "\n",
    "print(\"AND Table\")\n",
    "print(and_table)\n",
    "print('OR Table')\n",
    "print(or_table)\n",
    "print('NOT Table')\n",
    "print(not_table)\n"
   ]
  },
  {
   "cell_type": "markdown",
   "metadata": {},
   "source": [
    "***"
   ]
  },
  {
   "cell_type": "markdown",
   "metadata": {},
   "source": [
    "4. What are the values of the following expressions?\n",
    "\n",
    "__Ans:-__\n",
    "\n",
    "- (5 > 4) and (3 == 5) = False\n",
    "- not (5 > 4) = False\n",
    "- (5 > 4) or (3 == 5) = True\n",
    "- not ((5 > 4) or (3 == 5)) = False\n",
    "- (True and True) and (True == False) = False\n",
    "- (not False) or (not True) = True\n",
    "***"
   ]
  },
  {
   "cell_type": "markdown",
   "metadata": {},
   "source": [
    "5. What are the six different types of reference operators?\n",
    "\n",
    "__Ans:-__\n",
    "1. Arithmatic Operators\n",
    "2. Relational Operators\n",
    "3. Assigment Operators\n",
    "4. Logical Operators\n",
    "5. Bitwise Operators\n",
    "6. Membership Operators\n",
    "7. Identity Operators\n",
    "***"
   ]
  },
  {
   "cell_type": "markdown",
   "metadata": {},
   "source": [
    "6. How do you tell the difference between the equal to and assignment operators?\n",
    "\n",
    "__Ans:-__\n",
    "- Equals to operator returns a boolean value after evaluating an expression. While Assigment operator assigns a particular value to a variable.\n",
    "- for e.g. \n",
    "    - if (10 == 20), here '==' returns boolean value.\n",
    "    - name = 'santosh' here variable name got assigned to a string value 'santosh'\n",
    "***"
   ]
  },
  {
   "cell_type": "markdown",
   "metadata": {},
   "source": [
    "7. Describe a condition and when you would use one.\n",
    "\n",
    "__Ans:-__\n",
    "- Condition is an boolean expression which determines which branch to take or to execute.\n",
    "- Consider a scenario where we want to run the JavaScript script after DOM loaded. In that scenario we can write something like :\n",
    "```python\n",
    "    if dom_loaded():\n",
    "        # Run the JS script\n",
    "    else:\n",
    "        # Don't Run the JS script\n",
    "```\n",
    "***"
   ]
  },
  {
   "cell_type": "markdown",
   "metadata": {},
   "source": [
    "8. Recognize the following three blocks in this code:\n",
    "\n",
    "```python\n",
    "spam = 0\n",
    "if spam == 10: # First Block\n",
    "    print('eggs')\n",
    "    if spam > 5: # Second Block\n",
    "        print('bacon')\n",
    "    else: # Third Block\n",
    "        print('ham')\n",
    "    print('spam')\n",
    "print('spam')\n",
    "```\n",
    "***"
   ]
  },
  {
   "cell_type": "markdown",
   "metadata": {},
   "source": [
    "9. Create a programme that prints. If 1 is stored in spam, prints Hello; if 2 is stored in spam, prints Howdy; and if 3 is stored in spam, prints Salutations! if there's something else in spam.\n",
    "\n",
    "__Ans:-__"
   ]
  },
  {
   "cell_type": "code",
   "execution_count": 3,
   "metadata": {},
   "outputs": [
    {
     "name": "stdout",
     "output_type": "stream",
     "text": [
      "4\n",
      "4\n"
     ]
    }
   ],
   "source": [
    "spam = int(input())\n",
    "\n",
    "if spam == 1:\n",
    "    print('Hello')\n",
    "elif spam == 2:\n",
    "    print('Howdy')\n",
    "elif spam == 3:\n",
    "    print('Salutations')\n",
    "else:\n",
    "    print(spam)"
   ]
  },
  {
   "cell_type": "markdown",
   "metadata": {},
   "source": [
    "***"
   ]
  },
  {
   "cell_type": "markdown",
   "metadata": {},
   "source": [
    "10. If your programme is stuck in an endless loop, what keys can you press?\n",
    "\n",
    "__Ans:-__\n",
    "`Ctl + C`\n",
    "***"
   ]
  },
  {
   "cell_type": "markdown",
   "metadata": {},
   "source": [
    "11. How can you tell the difference between break and continue?\n",
    "\n",
    "__Ans:-__\n",
    "\n",
    "Inside a loop if we use break statement, we will directly come out of that particular loop and executes the statements after the loop. If we use continue, we will directly go to increment/decrement statement of particular loop leaving the current iteration.\n",
    "***"
   ]
  },
  {
   "cell_type": "markdown",
   "metadata": {},
   "source": [
    "12. In a for loop, what is the difference between range(10), range(0, 10), and range(0, 10, 1)?\n",
    "\n",
    "__Ans:-__\n",
    "- There is no difference between all three. in the range function start and step parameters are optional.\n",
    "- i.e. If we don't mention the start parameter by default it will be 0, and if we don't mention the step parameter by default it will be 1\n",
    "***"
   ]
  },
  {
   "cell_type": "markdown",
   "metadata": {},
   "source": [
    "13. Using a for loop, write a short programme that prints the numbers 1 to 10 Then, using a while loop, create an identical programme that prints the numbers 1 to 10.\n",
    "\n",
    "__Ans:-__"
   ]
  },
  {
   "cell_type": "code",
   "execution_count": 4,
   "metadata": {},
   "outputs": [
    {
     "name": "stdout",
     "output_type": "stream",
     "text": [
      "Using For Loop = 1 2 3 4 5 6 7 8 9 10 \n",
      "Using While Loop = 1 2 3 4 5 6 7 8 9 10 "
     ]
    }
   ],
   "source": [
    "def print_numbers():\n",
    "    print(\"Using For Loop = \", end = '')\n",
    "    for i in range(1, 11):\n",
    "        print(i, end = ' ')\n",
    "    counter = 1\n",
    "    \n",
    "    print('\\nUsing While Loop = ', end = '')\n",
    "    while counter < 11:\n",
    "        print(counter, end = ' ')\n",
    "        counter += 1\n",
    "print_numbers()"
   ]
  },
  {
   "cell_type": "markdown",
   "metadata": {},
   "source": [
    "***"
   ]
  },
  {
   "cell_type": "markdown",
   "metadata": {},
   "source": [
    "14. If you had a bacon() function within a spam module, what would you call it after importing spam?\n",
    "\n",
    "__Ans:-__ \n",
    "```python\n",
    "spam.bacon()\n",
    "```"
   ]
  },
  {
   "cell_type": "code",
   "execution_count": null,
   "metadata": {},
   "outputs": [],
   "source": []
  }
 ],
 "metadata": {
  "kernelspec": {
   "display_name": "Python 3",
   "language": "python",
   "name": "python3"
  },
  "language_info": {
   "codemirror_mode": {
    "name": "ipython",
    "version": 3
   },
   "file_extension": ".py",
   "mimetype": "text/x-python",
   "name": "python",
   "nbconvert_exporter": "python",
   "pygments_lexer": "ipython3",
   "version": "3.8.5"
  }
 },
 "nbformat": 4,
 "nbformat_minor": 4
}
