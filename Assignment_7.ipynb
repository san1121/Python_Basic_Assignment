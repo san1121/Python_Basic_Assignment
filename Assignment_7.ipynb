{
 "cells": [
  {
   "cell_type": "markdown",
   "metadata": {},
   "source": [
    "1. What is the name of the feature responsible for generating Regex objects?\n",
    "\n",
    "__Ans:-__\n",
    "re.compile() is responsible for generating regex object.\n",
    "***"
   ]
  },
  {
   "cell_type": "markdown",
   "metadata": {},
   "source": [
    "2. Why do raw strings often appear in Regex objects?\n",
    "\n",
    "__Ans:-__\n",
    "- To match a backslash we would have need another backslash behind it to act as escape character.\n",
    "- That is the reason raw strings are used so that backslashes do not have to be escaped\n",
    "***"
   ]
  },
  {
   "cell_type": "markdown",
   "metadata": {},
   "source": [
    "3. What is the return value of the search() method?\n",
    "\n",
    "__Ans:-__\n",
    "- It returns a match object, if there exists a match in a string.\n",
    "- This match object consists of span i.e. Where the match started and where it ends\n",
    "***"
   ]
  },
  {
   "cell_type": "markdown",
   "metadata": {},
   "source": [
    "4. From a Match item, how do you get the actual strings that match the pattern?\n",
    "\n",
    "__Ans:-__\n",
    "- To find the actual match strings we can use group() method\n",
    "***"
   ]
  },
  {
   "cell_type": "markdown",
   "metadata": {},
   "source": [
    "5. In the regex which created from the r'(\\d\\d\\d)-(\\d\\d\\d-\\d\\d\\d\\d)', what does group zero cover? Group 2? Group 1?\n",
    "\n",
    "__Ans:-__\n",
    "- Group(0) matches/locates the whole match expression.\n",
    "- Group(1) is the first parenthesis pair locates the matching expression 1\n",
    "- Group(2) is the second parentheis pair locates the matching expression 2\n",
    "***"
   ]
  },
  {
   "cell_type": "markdown",
   "metadata": {},
   "source": [
    "6. In standard expression syntax, parentheses and intervals have distinct meanings. How can you tell a regex that you want it to fit real parentheses and periods?\n",
    "\n",
    "__Ans:-__\n",
    "- We can take help of escape characters to tell the regex that we want the real parentheses and periods.\n",
    "- This can be done by adding backslash just before the periods and parentheses.\n",
    "***"
   ]
  },
  {
   "cell_type": "markdown",
   "metadata": {},
   "source": [
    "7. The findall() method returns a string list or a list of string tuples. What causes it to return one of the two options?\n",
    "\n",
    "__Ans:-__\n",
    "- Returning value of findall() function depends upon the way regex is written. i.e. If there are grouping present in regex then it will return list of string tuples otherwise return list of strings\n",
    "\n",
    "    Consider following example\n",
    "    \n",
    "    ```python\n",
    "import re\n",
    "pattern1 = r'name'\n",
    "pattern2 = r'(name)|(shreyas)'\n",
    "string = 'My name is shreyas'\n",
    "print(re.findall(pattern1, string)) # This will return string list\n",
    "print(re.findall(pattern2, string)) # This will return list of string tuples\n",
    "    ```\n",
    "***"
   ]
  },
  {
   "cell_type": "markdown",
   "metadata": {},
   "source": [
    "8. In standard expressions, what does the | character mean?\n",
    "\n",
    "__Ans:-__\n",
    "- It means either or. i.e. atleast one value should match.\n",
    "- e.g. r'hello|world' then atleast hello or world should be there in the string\n",
    "***"
   ]
  },
  {
   "cell_type": "markdown",
   "metadata": {},
   "source": [
    "9. In regular expressions, what does the ? character stand for?\n",
    "\n",
    "__Ans:-__\n",
    "It represents to match either 0 or one occurrence of particular group\n",
    "***"
   ]
  },
  {
   "cell_type": "markdown",
   "metadata": {},
   "source": [
    "10. regular expressions, what is the difference between the + and * characters?\n",
    "\n",
    "__Ans:-__\n",
    "+ represents to match one or more, and * represents to match zero or more occurences of particular group\n",
    "***"
   ]
  },
  {
   "cell_type": "markdown",
   "metadata": {},
   "source": [
    "11. What is the difference between {4} and {4,5} in regular expression?\n",
    "\n",
    "__Ans:-__\n",
    "- {n} is used to match exactly the n number of instances of the preceding group.\n",
    "- {n,m} is used to match between n and m number of instances of the preceding group(n and m both are inclusive).\n",
    "***"
   ]
  },
  {
   "cell_type": "markdown",
   "metadata": {},
   "source": [
    "12. What do you mean by the \\d, \\w, and \\s shorthand character classes signify in regular expressions?\n",
    "\n",
    "__Ans:-__\n",
    "1. \\d - Matches to single digit\n",
    "2. \\w - Matches to single word\n",
    "3. \\s - Matches to single space\n",
    "***"
   ]
  },
  {
   "cell_type": "markdown",
   "metadata": {},
   "source": [
    "13. What do means by \\D, \\W, and \\S shorthand character classes signify in regular expressions?\n",
    "\n",
    "__Ans:-__\n",
    "1. \\D - Matches single character which is non digit\n",
    "2. \\W - Matches single character which is non word\n",
    "3. \\S - Matches single character which is non Space\n",
    "***\n"
   ]
  },
  {
   "cell_type": "markdown",
   "metadata": {},
   "source": [
    "14. What is the difference between .*? and .*?\n",
    "\n",
    "__Ans:-__\n",
    "\n",
    "***"
   ]
  },
  {
   "cell_type": "markdown",
   "metadata": {},
   "source": [
    "15. What is the syntax for matching both numbers and lowercase letters with a character class?\n",
    "\n",
    "__Ans:-__\n",
    "[0-9a-z] or [a-z0-9]\n",
    "***"
   ]
  },
  {
   "cell_type": "markdown",
   "metadata": {},
   "source": [
    "16. What is the procedure for making a normal expression in regax case insensitive?\n",
    "\n",
    "__Ans:-__\n",
    "We can use extra parameter re.IGNORECASE to make normal expression case insensitive"
   ]
  },
  {
   "cell_type": "markdown",
   "metadata": {},
   "source": [
    "17. What does the . character normally match? What does it match if re.DOTALL is passed as 2nd argument in re.compile()?\n",
    "\n",
    "__Ans:-__\n",
    "- The normal . matches every character except if there is newline character.\n",
    "- If we pass re.DOTALL as the argument then it will also match this newline characters as well.\n",
    "***"
   ]
  },
  {
   "cell_type": "markdown",
   "metadata": {},
   "source": [
    "18. If numReg = re.compile(r'\\d+'), what will numRegex.sub('X', '11 drummers, 10 pipers, five rings, 4 hen') return?\n",
    "\n",
    "__Ans:-__\n",
    "'X drummers, X pipers, five rings, X hen'\n",
    "***\n"
   ]
  },
  {
   "cell_type": "markdown",
   "metadata": {},
   "source": [
    "19. What does passing re.VERBOSE as the 2nd argument to re.compile() allow to do?\n",
    "\n",
    "__Ans:-__\n",
    "re.VERBOSE let's us write regex in a more readable way. i.e. We can separate sections with whitespaces and also add comments for better clarity.\n",
    "***\n"
   ]
  },
  {
   "cell_type": "markdown",
   "metadata": {},
   "source": [
    "20. How would you write a regex that match a number with comma for every three digits? It must match the given following:\n",
    "\n",
    "    '42'\n",
    "    '1,234'\n",
    "    '6,368,745'\n",
    "    but not the following:\n",
    "    '12,34,567' (which has only two digits between the commas)\n",
    "    '1234' (which lacks commas)\n",
    "\n",
    "__Ans:-__"
   ]
  },
  {
   "cell_type": "code",
   "execution_count": 1,
   "metadata": {
    "scrolled": true
   },
   "outputs": [
    {
     "name": "stdout",
     "output_type": "stream",
     "text": [
      "<re.Match object; span=(0, 6), match='-1,234'>\n",
      "None\n"
     ]
    }
   ],
   "source": [
    "import re\n",
    "pattern = re.compile(r'^[+-]?\\d{1,3}(,\\d{3})*$')\n",
    "print(pattern.search(\"-1,234\"))\n",
    "print(pattern.search('1234'))"
   ]
  },
  {
   "cell_type": "markdown",
   "metadata": {},
   "source": [
    "***"
   ]
  },
  {
   "cell_type": "markdown",
   "metadata": {},
   "source": [
    "21. How would you write a regex that matches the full name of someone whose last name is Watanabe? You can assume that the first name that comes before it will always be one word that begins with a capital letter. The regex must match the following:\n",
    "\n",
    "    'Haruto Watanabe'\n",
    "    'Alice Watanabe'\n",
    "    'RoboCop Watanabe'\n",
    "    but not the following:\n",
    "\n",
    "    'haruto Watanabe' (where the first name is not capitalized)\n",
    "    'Mr. Watanabe' (where the preceding word has a nonletter character)\n",
    "    'Watanabe' (which has no first name)\n",
    "    'Haruto watanabe' (where Watanabe is not capitalized)\n",
    "    \n",
    "__Ans:__"
   ]
  },
  {
   "cell_type": "code",
   "execution_count": 2,
   "metadata": {},
   "outputs": [
    {
     "name": "stdout",
     "output_type": "stream",
     "text": [
      "<re.Match object; span=(0, 16), match='RoboCop Watanabe'>\n",
      "None\n",
      "None\n",
      "None\n"
     ]
    }
   ],
   "source": [
    "import re\n",
    "pattern = re.compile(r'[A-Z][a-zA-Z]*\\sWatanabe$')\n",
    "print(pattern.search(\"RoboCop Watanabe\"))\n",
    "print(pattern.search('haruto Watanabe'))\n",
    "print(pattern.search('Mr. Watanabe'))\n",
    "print(pattern.search('Watanabe'))"
   ]
  },
  {
   "cell_type": "markdown",
   "metadata": {},
   "source": [
    "***"
   ]
  },
  {
   "cell_type": "markdown",
   "metadata": {},
   "source": [
    "22. How would you write a regex that matches a sentence where the first word is either Alice, Bob, or Carol; the second word is either eats, pets, or throws; the third word is apples, cats, or baseballs; and the sentence ends with a period? This regex should be case-insensitive. It must match the following:\n",
    "\n",
    "    'Alice eats apples.'\n",
    "    \n",
    "    'Bob pets cats.'\n",
    "    \n",
    "    'Carol throws baseballs.'\n",
    "    \n",
    "    'Alice throws Apples.'\n",
    "    \n",
    "    'BOB EATS CATS.'\n",
    "    \n",
    "    but not the following:\n",
    "\n",
    "    'RoboCop eats apples.'\n",
    "    \n",
    "    'ALICE THROWS FOOTBALLS.'\n",
    "    \n",
    "    'Carol eats 7 cats.'\n",
    "\n",
    "__Ans:-__"
   ]
  },
  {
   "cell_type": "code",
   "execution_count": 3,
   "metadata": {},
   "outputs": [
    {
     "name": "stdout",
     "output_type": "stream",
     "text": [
      "<re.Match object; span=(0, 18), match='Alice eats apples.'>\n",
      "<re.Match object; span=(0, 14), match='BOB EATS CATS.'>\n",
      "None\n",
      "None\n",
      "None\n"
     ]
    }
   ],
   "source": [
    "import re\n",
    "pattern = re.compile(r'^(alice|bob|carol)\\s(eats|pets|throws)\\s(apples|cats|baseballs).', re.IGNORECASE)\n",
    "print(pattern.search(\"Alice eats apples.\"))\n",
    "print(pattern.search('BOB EATS CATS.'))\n",
    "print(pattern.search('RoboCop eats apples.'))\n",
    "print(pattern.search('ALICE THROWS FOOTBALLS.'))\n",
    "print(pattern.search('Carol eats 7 cats.'))\n"
   ]
  },
  {
   "cell_type": "code",
   "execution_count": null,
   "metadata": {},
   "outputs": [],
   "source": []
  }
 ],
 "metadata": {
  "kernelspec": {
   "display_name": "Python 3",
   "language": "python",
   "name": "python3"
  },
  "language_info": {
   "codemirror_mode": {
    "name": "ipython",
    "version": 3
   },
   "file_extension": ".py",
   "mimetype": "text/x-python",
   "name": "python",
   "nbconvert_exporter": "python",
   "pygments_lexer": "ipython3",
   "version": "3.8.5"
  }
 },
 "nbformat": 4,
 "nbformat_minor": 4
}
