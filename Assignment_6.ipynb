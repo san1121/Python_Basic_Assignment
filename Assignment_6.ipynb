{
 "cells": [
  {
   "cell_type": "markdown",
   "metadata": {},
   "source": [
    "1. What are escape characters, and how do you use them?\n",
    "\n",
    "__Ans:-__\n",
    "- Consider a  string \"My name is \"Santosh\"\". This string will cause an error since we have already started the string in double quotes.\n",
    "- One way to fix it is by using a combination of single and double quotes. Something like this \"My name is 'Santosh'\". But it doesn't solve our problem completely since we can have something like 'It's python code'.\n",
    "- To solve above problems we can use something called as escape characters.Above string can be written as follows using escape characters\n",
    "```python\n",
    "'It\\'s Python code.'\n",
    "```\n",
    "***"
   ]
  },
  {
   "cell_type": "markdown",
   "metadata": {},
   "source": [
    "2. What do the escape characters n and t stand for?\n",
    "\n",
    "__Ans:-__\n",
    "\n",
    "\\n stands for adding a new line, \\t stands for adding a one tab of space \n",
    "***"
   ]
  },
  {
   "cell_type": "markdown",
   "metadata": {},
   "source": [
    "3. What is the way to include backslash characters in a string?\n",
    "\n",
    "__Ans:-__\n",
    "- Just by adding extra backslash behind it.\n",
    "```python\n",
    "print('\\\\')\n",
    "# Outputs - \\\n",
    "```\n",
    "***"
   ]
  },
  {
   "cell_type": "markdown",
   "metadata": {},
   "source": [
    "4. The string \"Howl's Moving Castle\" is a correct value. Why isn't the single quote character in the word Howl's not escaped a problem?\n",
    "\n",
    "__Ans:-__\n",
    "- We can use Single Quotes inside the Double Quotes and vice versa without having to use escape characters.\n",
    "***"
   ]
  },
  {
   "cell_type": "markdown",
   "metadata": {},
   "source": [
    "5. How do you write a string of newlines if you don't want to use the n character?\n",
    "\n",
    "__Ans:-__\n",
    "```python\n",
    "'''\n",
    "This is multiline text\n",
    "without having to use\n",
    "\\n \n",
    "'''\n",
    "```\n",
    "***"
   ]
  },
  {
   "cell_type": "markdown",
   "metadata": {},
   "source": [
    "6. What are the values of the given expressions?\n",
    "\n",
    "__Ans:-__\n",
    "1. 'Hello, world!'[1] :- 'e'\n",
    "2. 'Hello, world!'[0:5] :- 'Hello'\n",
    "3. 'Hello, world!'[:5] :- 'Hello'\n",
    "4. 'Hello, world!'[3:] :- 'lo, world!'\n",
    "***"
   ]
  },
  {
   "cell_type": "markdown",
   "metadata": {},
   "source": [
    "7. What are the values of the following expressions?\n",
    "\n",
    "__Ans:-__\n",
    "\n",
    "1. 'Hello'.upper() :- 'HELLO'\n",
    "2. 'Hello'.upper().isupper() :- True\n",
    "3. 'Hello'.upper().lower() :- 'hello'\n",
    "***"
   ]
  },
  {
   "cell_type": "markdown",
   "metadata": {},
   "source": [
    "8. What are the values of the following expressions?\n",
    "\n",
    "__Ans:-__\n",
    "\n",
    "1. 'Remember, remember, the fifth of July.'.split() :- ['Remember,', 'remember,', 'the', 'fifth', 'of', 'July.']\n",
    "2. '-'.join('There can only one.'.split()) :- 'There-can-only-one.'\n",
    "***\n"
   ]
  },
  {
   "cell_type": "markdown",
   "metadata": {},
   "source": [
    "9. What are the methods for right-justifying, left-justifying, and centering a string?\n",
    "\n",
    "__Ans:-__\n",
    "ljust(), rjust(), center() are the methods for left, right and center justifying the strings respectively.\n",
    "***"
   ]
  },
  {
   "cell_type": "markdown",
   "metadata": {},
   "source": [
    "10. What is the best way to remove whitespace characters from the start or end?\n",
    "\n",
    "__Ans:-__\n",
    "\n",
    "We can use strip() method to remove the whitespaces from start or end of string"
   ]
  },
  {
   "cell_type": "code",
   "execution_count": null,
   "metadata": {},
   "outputs": [],
   "source": []
  }
 ],
 "metadata": {
  "kernelspec": {
   "display_name": "Python 3",
   "language": "python",
   "name": "python3"
  },
  "language_info": {
   "codemirror_mode": {
    "name": "ipython",
    "version": 3
   },
   "file_extension": ".py",
   "mimetype": "text/x-python",
   "name": "python",
   "nbconvert_exporter": "python",
   "pygments_lexer": "ipython3",
   "version": "3.8.5"
  }
 },
 "nbformat": 4,
 "nbformat_minor": 4
}
