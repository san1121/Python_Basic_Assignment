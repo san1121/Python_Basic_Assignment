{
 "cells": [
  {
   "cell_type": "markdown",
   "metadata": {},
   "source": [
    "1. What advantages do Excel spreadsheets have over CSV spreadsheets?\n",
    "\n",
    "__Ans:-__\n",
    "\n",
    "- Excel spreadsheets can be used to perform analysis of data and number, it is just not a store of information. While, CSV spreadsheets is only a plain text form of data set which doesn't let us to perform any analysis using functions.\n",
    "- Excel spreadsheets cannnot be edited by any text editors and also it is password protected unlike CSV spreadsheets.\n",
    "- For reading large data set, Excel spreadsheets is much easier than that of CSV spreadsheets\n",
    "***"
   ]
  },
  {
   "cell_type": "markdown",
   "metadata": {},
   "source": [
    "2. What do you pass to csv.reader() and csv.writer() to create reader and writer objects?\n",
    "\n",
    "__Ans:-__\n",
    "- We have to pass CSV file(some_file.csv) to the csv.reader() and csv.writer(). If the CSV file is a file object then it should be opened with newline = ''.\n",
    "- There are two optional parameters which are also given, Dialect parameter which is specific to particular CSV file and other one is keyword arugments.\n",
    "***"
   ]
  },
  {
   "cell_type": "markdown",
   "metadata": {},
   "source": [
    "3. What modes do File objects for reader and writer objects need to be opened in?\n",
    "\n",
    "__Ans:-__\n",
    "mode = 'r' for reader objects and mode = 'w' for writer objects\n",
    "***"
   ]
  },
  {
   "cell_type": "markdown",
   "metadata": {},
   "source": [
    "4. What method takes a list argument and writes it to a CSV file?\n",
    "\n",
    "__Ans:-__\n",
    "writerow method takes a list argument and writes to the CSV file. for e.g.\n",
    "\n",
    "```python\n",
    "import csv\n",
    "with open('some.csv', mode = 'w') as some_csv:\n",
    "    writer = csv.writer(some_csv)\n",
    "    writer.writerow(['Some','CSV'])\n",
    "```\n",
    "***"
   ]
  },
  {
   "cell_type": "markdown",
   "metadata": {},
   "source": [
    "5. What do the keyword arguments delimiter and line terminator do?\n",
    "\n",
    "__Ans:-__\n",
    "- delimiter specifies a character/characters which specifies the independent records in a particular CSV file.\n",
    "- To end the lines which are produced by writer objects we use line terminator. We can use any string character as a line terminator. But the reader object only recognizes \\r or \\n as a line terminator values.\n",
    "***"
   ]
  },
  {
   "cell_type": "markdown",
   "metadata": {},
   "source": [
    "6. What function takes a string of JSON data and returns a Python data structure?\n",
    "\n",
    "__Ans:-__\n",
    "We can use json.loads(string_json) function from json library. Here string_json represents the json format.\n",
    "    Consider an example\n",
    "    \n",
    "```python\n",
    "import json\n",
    "string_json = '{\"Data Science\":\"iNeuron\", \"Duration\":\"1 Year\", \"Job Guarantee\":\"true\"}'\n",
    "python_json = json.loads(string_json)\n",
    "print(python_json)\n",
    "# OUTPUT - {'Data Science': 'iNeuron', 'Duration': '1 Year', 'Job Guarantee': 'true'}\n",
    "print(type(python_json))\n",
    "# OUTPUT - <class 'dict'>\n",
    "```\n",
    "***"
   ]
  },
  {
   "cell_type": "markdown",
   "metadata": {},
   "source": [
    "7. What function takes a Python data structure and returns a string of JSON data?\n",
    "\n",
    "__Ans:-__\n",
    "We can use json.dumps(python_ds) function from json library where python_ds represents a Python dictionary.\n",
    "    Consider an example\n",
    "\n",
    "```python\n",
    "import json\n",
    "python_ds = {'Data Science': 'iNeuron', 'Duration': '1 Year', 'Job Guarantee': 'true'}\n",
    "string_json = json.dumps(python_ds)\n",
    "print(string_json)\n",
    "#OUTPUT - {\"Data Science\": \"iNeuron\", \"Duration\": \"1 Year\", \"Job Guarantee\": \"true\"}\n",
    "print(type(string_json))\n",
    "#OUTPUT - <class 'str'>\n",
    "```"
   ]
  },
  {
   "cell_type": "code",
   "execution_count": null,
   "metadata": {},
   "outputs": [],
   "source": []
  }
 ],
 "metadata": {
  "kernelspec": {
   "display_name": "Python 3",
   "language": "python",
   "name": "python3"
  },
  "language_info": {
   "codemirror_mode": {
    "name": "ipython",
    "version": 3
   },
   "file_extension": ".py",
   "mimetype": "text/x-python",
   "name": "python",
   "nbconvert_exporter": "python",
   "pygments_lexer": "ipython3",
   "version": "3.8.5"
  }
 },
 "nbformat": 4,
 "nbformat_minor": 2
}
